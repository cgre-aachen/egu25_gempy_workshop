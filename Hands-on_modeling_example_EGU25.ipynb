{
 "cells": [
  {
   "cell_type": "markdown",
   "id": "6ca371d0-18bc-46f1-a84d-a38a81309dcc",
   "metadata": {},
   "source": [
    "# Hands-On: Modeling example EGU25\n",
    "\n",
    "In this second example we provide the basic structure and data required for a model.\n",
    "\n",
    "Your task is to review the input data and create a reasonable structural frame by grouping and ordering all elements.\n",
    "\n",
    "Make sure to specify which elements represent faults.\n",
    "\n",
    "Use the code provided in the previous example as a basis."
   ]
  },
  {
   "cell_type": "code",
   "id": "b1f6aa90-3e49-4954-b834-8c8e27eee306",
   "metadata": {},
   "source": [
    "# Required imports\n",
    "import gempy as gp\n",
    "import gempy_viewer as gpv\n",
    "import numpy as np"
   ],
   "outputs": [],
   "execution_count": null
  },
  {
   "cell_type": "code",
   "id": "93d6d348-d9c6-4b8c-b198-9eca4d4ef573",
   "metadata": {},
   "source": [
    "# Define the path to data\n",
    "data_path = \"https://raw.githubusercontent.com/cgre-aachen/egu25_gempy_workshop/refs/heads/main/outlook_notebooks/data/\"\n",
    "\n",
    "\n",
    "# Create a GeoModel instance\n",
    "geo_model = gp.create_geomodel(\n",
    "    project_name='EGU_example_hands_on',\n",
    "    extent=[0, 1200, 0, 1000, 0, 1000],\n",
    "    resolution=[120, 50, 50],\n",
    "    importer_helper=gp.data.ImporterHelper(\n",
    "        path_to_orientations=data_path+\"hands_on_example_orientations.csv\",\n",
    "        path_to_surface_points=data_path+\"hands_on_example_surface_points.csv\"\n",
    "    )\n",
    ")"
   ],
   "outputs": [],
   "execution_count": null
  },
  {
   "cell_type": "code",
   "id": "c3799324-1303-4397-aad9-2b1b54b4fdbb",
   "metadata": {},
   "source": [
    "# Display a basic cross section of input data\n",
    "gpv.plot_2d(geo_model)"
   ],
   "outputs": [],
   "execution_count": null
  },
  {
   "cell_type": "code",
   "id": "74abf0ba-d268-48e0-9595-18faa1d8a8ce",
   "metadata": {},
   "source": "# Define your structural frame here: Order and group all elements\n",
   "outputs": [],
   "execution_count": null
  },
  {
   "cell_type": "code",
   "id": "f46440e8-5e34-45a7-b972-9e3489dab506",
   "metadata": {},
   "source": "# Define which group(s) contain faults here\n",
   "outputs": [],
   "execution_count": null
  },
  {
   "cell_type": "code",
   "id": "0ecca1e6-bb29-4dce-9bd2-16735a2418ba",
   "metadata": {},
   "source": [
    "# Compute a solution for the model\n",
    "gp.compute_model(geo_model)"
   ],
   "outputs": [],
   "execution_count": null
  },
  {
   "cell_type": "code",
   "id": "d7d29a77-da39-481e-a9c6-7bb9cbcbfeec",
   "metadata": {},
   "source": [
    "# Display the result in 2d section\n",
    "gpv.plot_2d(geo_model)"
   ],
   "outputs": [],
   "execution_count": null
  },
  {
   "cell_type": "code",
   "id": "ea25691a-913c-477c-aabc-d17e8a4fa046",
   "metadata": {},
   "source": [
    "# Display the result in 3D\n",
    "gpv.plot_3d(geo_model)"
   ],
   "outputs": [],
   "execution_count": null
  }
 ],
 "metadata": {
  "kernelspec": {
   "display_name": "Python 3 (ipykernel)",
   "language": "python",
   "name": "python3"
  },
  "language_info": {
   "codemirror_mode": {
    "name": "ipython",
    "version": 3
   },
   "file_extension": ".py",
   "mimetype": "text/x-python",
   "name": "python",
   "nbconvert_exporter": "python",
   "pygments_lexer": "ipython3",
   "version": "3.12.4"
  }
 },
 "nbformat": 4,
 "nbformat_minor": 5
}
