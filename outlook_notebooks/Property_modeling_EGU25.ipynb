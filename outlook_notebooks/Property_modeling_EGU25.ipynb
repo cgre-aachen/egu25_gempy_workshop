{
 "cells": [
  {
   "cell_type": "markdown",
   "id": "15df6abc-9dbd-4f46-8958-d100c98d5bf1",
   "metadata": {},
   "source": [
    "## Property modeling EGU25\n",
    "\n",
    "This notebook is a small example of how to populate a structural geological model with properties using geostaistical methods. \n",
    "\n",
    "In addition to gempy it requires pyvista (https://pyvista.org/) and gstools (https://geostat-framework.readthedocs.io/projects/gstools/en/stable/) as dependencies."
   ]
  },
  {
   "cell_type": "code",
   "execution_count": 1,
   "id": "987ae5bb-108f-4a7e-a493-b087460e12aa",
   "metadata": {
    "ExecuteTime": {
     "end_time": "2024-10-31T12:00:19.663497Z",
     "start_time": "2024-10-31T12:00:16.249138Z"
    }
   },
   "outputs": [
    {
     "name": "stdout",
     "output_type": "stream",
     "text": [
      "Setting Backend To: AvailableBackends.numpy\n"
     ]
    }
   ],
   "source": [
    "# Importing necessary libraries\n",
    "import numpy as np\n",
    "import gempy as gp\n",
    "import gempy_viewer as gpv\n",
    "\n",
    "# Additional dependencies\n",
    "import pyvista as pv\n",
    "import matplotlib.pyplot as plt\n",
    "import gstools as gs"
   ]
  },
  {
   "cell_type": "markdown",
   "id": "64ae16a3-e34a-491d-ab9a-9ad38cff1731",
   "metadata": {},
   "source": [
    "### 1) Strucutural geological model "
   ]
  },
  {
   "cell_type": "code",
   "execution_count": 3,
   "id": "4afcbadf-294f-4dc6-a405-8da9c0569d5a",
   "metadata": {
    "ExecuteTime": {
     "end_time": "2024-10-31T12:02:08.652373Z",
     "start_time": "2024-10-31T12:00:29.729375Z"
    }
   },
   "outputs": [
    {
     "name": "stdout",
     "output_type": "stream",
     "text": [
      "Surface points hash:  dd7b2f714c1c20cb7ce615c5c47ecc4cf3ca2ee3419e4090b2f11fbf633d459f\n",
      "Orientations hash:  4043b59bbfa7012abd818f04f74e2b0667ba970dd71c781512289bc073f5a6d5\n",
      "Setting Backend To: AvailableBackends.numpy\n",
      "Chunking done: 6 chunks\n",
      "Chunking done: 14 chunks\n",
      "Chunking done: 66 chunks\n",
      "Chunking done: 6 chunks\n"
     ]
    },
    {
     "data": {
      "text/html": [
       "<b>Solutions:</b> 4 Octree Levels, 4 DualContouringMeshes"
      ],
      "text/plain": [
       "Solutions(4 Octree Levels, 4 DualContouringMeshes)"
      ]
     },
     "execution_count": 3,
     "metadata": {},
     "output_type": "execute_result"
    }
   ],
   "source": [
    "# Generate the model\n",
    "data_path = 'https://raw.githubusercontent.com/cgre-aachen/gempy_data/master/'\n",
    "path_to_data = data_path + \"/data/input_data/jan_models/\"\n",
    "\n",
    "# Create a GeoModel instance\n",
    "geo_model = gp.create_geomodel(\n",
    "    project_name='combination',\n",
    "    extent=[0, 2500, 0, 1000, 0, 1000],\n",
    "    resolution=[125, 50, 50],\n",
    "    importer_helper=gp.data.ImporterHelper(\n",
    "        path_to_orientations=path_to_data + \"model7_orientations.csv\",\n",
    "        path_to_surface_points=path_to_data + \"model7_surface_points.csv\"\n",
    "    )\n",
    ")\n",
    "\n",
    "# Map geological series to surfaces\n",
    "gp.map_stack_to_surfaces(\n",
    "    gempy_model=geo_model,\n",
    "    mapping_object={\n",
    "        \"Fault_Series\": ('fault'),\n",
    "        \"Strat_Series1\": ('rock3'),\n",
    "        \"Strat_Series2\": ('rock2', 'rock1'),\n",
    "    }\n",
    ")\n",
    "# Define youngest structural group as fault\n",
    "gp.set_is_fault(geo_model, [\"Fault_Series\"])\n",
    "\n",
    "# Compute the geological model\n",
    "gp.compute_model(geo_model)"
   ]
  },
  {
   "cell_type": "code",
   "execution_count": 4,
   "id": "fedf178b-3779-4fab-94bf-f1ef287af381",
   "metadata": {},
   "outputs": [
    {
     "data": {
      "text/plain": [
       "<gempy_viewer.modules.plot_3d.vista.GemPyToVista at 0x1cc0ec5d010>"
      ]
     },
     "execution_count": 4,
     "metadata": {},
     "output_type": "execute_result"
    }
   ],
   "source": [
    "gpv.plot_3d(geo_model, show_block=True, show_lith=True, show_data=False)"
   ]
  },
  {
   "cell_type": "markdown",
   "id": "d762a939-243c-4312-a17b-e23cbce1b0d5",
   "metadata": {},
   "source": [
    "### 2) Convert to block model "
   ]
  },
  {
   "cell_type": "code",
   "execution_count": 5,
   "id": "9262523a-436d-4c33-84cd-cef14af3d6db",
   "metadata": {
    "ExecuteTime": {
     "end_time": "2024-10-31T12:02:08.798070Z",
     "start_time": "2024-10-31T12:02:08.697379Z"
    }
   },
   "outputs": [],
   "source": [
    "# Just for completeness - get the extent from gempy model\n",
    "model_extent = geo_model.grid.extent"
   ]
  },
  {
   "cell_type": "code",
   "execution_count": 6,
   "id": "caacf75f-b516-4fde-9011-545c15b61168",
   "metadata": {
    "ExecuteTime": {
     "end_time": "2024-10-31T12:02:09.346708Z",
     "start_time": "2024-10-31T12:02:08.799075Z"
    }
   },
   "outputs": [],
   "source": [
    "# Creat a structured pyvista grid from a gempy model\n",
    "\n",
    "# Define grid dimensions (number of voxels along each axis)\n",
    "nx, ny, nz = 125, 50, 50  # Number of voxels in each direction (res)\n",
    "\n",
    "# Define the range for x, y, z and calculate voxel centers\n",
    "dx = 2500 / nx\n",
    "dy = 1000 / ny\n",
    "dz = 1000 / nz\n",
    "\n",
    "# Similar to gempy grid bur plus one for meshing\n",
    "gridx = np.linspace(0, 2500, nx+1)\n",
    "gridy = np.linspace(0, 1000, ny+1)\n",
    "gridz = np.linspace(0, 1000, nz+1)\n",
    "\n",
    "# Create a 3D meshgrid for the coordinates, voxel centers\n",
    "X, Y, Z = np.meshgrid(gridx, gridy, gridz, indexing=\"ij\")\n",
    "\n",
    "# Reshape the coordinates to fit into the StructuredGrid format\n",
    "points = np.c_[X.T.ravel(), Y.T.ravel(), Z.T.ravel()]\n",
    "\n",
    "# Create a PyVista StructuredGrid object\n",
    "grid = pv.StructuredGrid()\n",
    "grid.points = points\n",
    "grid.dimensions = [nx+1, ny+1, nz+1] # One bigger as gempy grid\n",
    "\n",
    "# Assign the voxel colors to the grid's cell data\n",
    "grid.cell_data['lithology'] = geo_model.solutions.raw_arrays.lith_block.reshape([nx, ny, nz]).T.flatten(order=\"C\")\n"
   ]
  },
  {
   "cell_type": "code",
   "execution_count": 9,
   "id": "e1bc29dc-2cd4-43cd-b343-e39064cbbc42",
   "metadata": {},
   "outputs": [
    {
     "data": {
      "text/html": [
       "<table style='width: 100%;'><tr><th>Header</th><th>Data Arrays</th></tr><tr><td>\n",
       "<table style='width: 100%;'>\n",
       "<tr><th>StructuredGrid</th><th>Information</th></tr>\n",
       "<tr><td>N Cells</td><td>312500</td></tr>\n",
       "<tr><td>N Points</td><td>327726</td></tr>\n",
       "<tr><td>X Bounds</td><td>0.000e+00, 2.500e+03</td></tr>\n",
       "<tr><td>Y Bounds</td><td>0.000e+00, 1.000e+03</td></tr>\n",
       "<tr><td>Z Bounds</td><td>0.000e+00, 1.000e+03</td></tr>\n",
       "<tr><td>Dimensions</td><td>126, 51, 51</td></tr>\n",
       "<tr><td>N Arrays</td><td>1</td></tr>\n",
       "</table>\n",
       "\n",
       "</td><td>\n",
       "<table style='width: 100%;'>\n",
       "<tr><th>Name</th><th>Field</th><th>Type</th><th>N Comp</th><th>Min</th><th>Max</th></tr>\n",
       "<tr><td><b>lithology</b></td><td>Cells</td><td>int8</td><td>1</td><td>2.000e+00</td><td>5.000e+00</td></tr>\n",
       "</table>\n",
       "\n",
       "</td></tr> </table>"
      ],
      "text/plain": [
       "StructuredGrid (0x1cc1ed76920)\n",
       "  N Cells:      312500\n",
       "  N Points:     327726\n",
       "  X Bounds:     0.000e+00, 2.500e+03\n",
       "  Y Bounds:     0.000e+00, 1.000e+03\n",
       "  Z Bounds:     0.000e+00, 1.000e+03\n",
       "  Dimensions:   126, 51, 51\n",
       "  N Arrays:     1"
      ]
     },
     "execution_count": 9,
     "metadata": {},
     "output_type": "execute_result"
    }
   ],
   "source": [
    "# Pyvista strucutured grid\n",
    "grid"
   ]
  },
  {
   "cell_type": "code",
   "execution_count": 8,
   "id": "2aece194-8779-44da-9482-fac2c10a7ddb",
   "metadata": {
    "ExecuteTime": {
     "end_time": "2024-10-21T08:17:52.100736Z",
     "start_time": "2024-10-21T08:17:42.052178Z"
    }
   },
   "outputs": [],
   "source": [
    "# 3D plot lithologies\n",
    "plotter = pv.Plotter(notebook=False)\n",
    "\n",
    "plotter.add_mesh(grid, scalars='lithology',  cmap=['#728f02', '#ffbe00', '#9f0052', '#443988'], show_edges=True, style=\"surface\")\n",
    "\n",
    "# Set the bounds and grid of the plotter\n",
    "plotter.show_bounds(bounds=model_extent,\n",
    "                    location=\"furthest\",\n",
    "                    grid=True)\n",
    "\n",
    "# Display the interactive plot\n",
    "plotter.show()"
   ]
  },
  {
   "cell_type": "markdown",
   "id": "fe3318c6-ad2f-4971-8158-d69f4ce6bb6a",
   "metadata": {},
   "source": [
    "### 3) Perform Sequential Gaussian Simulation (SGS)"
   ]
  },
  {
   "cell_type": "code",
   "execution_count": 10,
   "id": "635817c8-a3d9-4232-a76d-46ebf3f75489",
   "metadata": {
    "ExecuteTime": {
     "end_time": "2024-10-31T12:02:09.626174Z",
     "start_time": "2024-10-31T12:02:09.349383Z"
    }
   },
   "outputs": [],
   "source": [
    "# Separate into multiblock by lithology ID\n",
    "grid.set_active_scalars(\"lithology\")\n",
    "multi_mesh = pv.MultiBlock()\n",
    "\n",
    "# There should be ab better soöution for this\n",
    "for i in np.unique(geo_model.solutions.raw_arrays.lith_block):\n",
    "    threshed = grid.threshold((i-0.5,i+0.5))\n",
    "    multi_mesh.append(threshed)"
   ]
  },
  {
   "cell_type": "code",
   "execution_count": 11,
   "id": "a77dbd94-43eb-46e9-b68c-057d5fca1080",
   "metadata": {},
   "outputs": [
    {
     "data": {
      "text/html": [
       "<table style='width: 100%;'><tr><th>Information</th><th>Blocks</th></tr><tr><td>\n",
       "<table>\n",
       "<tr><th>MultiBlock</th><th>Values</th></tr>\n",
       "<tr><td>N Blocks</td><td>4</td></tr>\n",
       "<tr><td>X Bounds</td><td>0.000, 2500.000</td></tr>\n",
       "<tr><td>Y Bounds</td><td>0.000, 1000.000</td></tr>\n",
       "<tr><td>Z Bounds</td><td>0.000, 1000.000</td></tr>\n",
       "</table>\n",
       "\n",
       "</td><td>\n",
       "<table>\n",
       "<tr><th>Index</th><th>Name</th><th>Type</th></tr>\n",
       "<tr><th>0</th><th>Block-00</th><th>UnstructuredGrid</th></tr>\n",
       "<tr><th>1</th><th>Block-01</th><th>UnstructuredGrid</th></tr>\n",
       "<tr><th>2</th><th>Block-02</th><th>UnstructuredGrid</th></tr>\n",
       "<tr><th>3</th><th>Block-03</th><th>UnstructuredGrid</th></tr>\n",
       "</table>\n",
       "\n",
       "</td></tr> </table>"
      ],
      "text/plain": [
       "MultiBlock (0x1cc1ed76fe0)\n",
       "  N Blocks    4\n",
       "  X Bounds    0.000, 2500.000\n",
       "  Y Bounds    0.000, 1000.000\n",
       "  Z Bounds    0.000, 1000.000"
      ]
     },
     "execution_count": 11,
     "metadata": {},
     "output_type": "execute_result"
    }
   ],
   "source": [
    "# Pyvista multiblock\n",
    "multi_mesh"
   ]
  },
  {
   "cell_type": "code",
   "execution_count": 12,
   "id": "e7c0c4db-dc07-4691-a6e8-21d45b5f7ef6",
   "metadata": {},
   "outputs": [
    {
     "name": "stderr",
     "output_type": "stream",
     "text": [
      "C:\\Users\\vonha\\miniconda3\\envs\\gempy\\Lib\\site-packages\\gstools\\covmodel\\plot.py:122: UserWarning: FigureCanvasAgg is non-interactive, and thus cannot be shown\n",
      "  fig.show()\n"
     ]
    },
    {
     "data": {
      "image/png": "[encoded data removed]",
      "text/plain": [
       "<Figure size 1040x715 with 1 Axes>"
      ]
     },
     "metadata": {},
     "output_type": "display_data"
    }
   ],
   "source": [
    "# Define a variogram model\n",
    "var_model = gs.Gaussian(dim=3, var=20, len_scale=400)\n",
    "var_model.plot();"
   ]
  },
  {
   "cell_type": "code",
   "execution_count": 13,
   "id": "dc29a738-bd48-4ef4-b497-61bdec54a6b9",
   "metadata": {},
   "outputs": [],
   "source": [
    "# Pick a mesh (lithological unit) and get coordinates of cell centers\n",
    "centers = multi_mesh[2].cell_centers()\n",
    "x = centers.points[:,0]\n",
    "y = centers.points[:,1]\n",
    "z = centers.points[:,2]\n",
    "\n",
    "# perfrom SGS\n",
    "srf = gs.SRF(var_model, seed=20170519)\n",
    "random_field = np.round(srf((x, y, z)), 0)\n",
    "\n",
    "# Add result to the pyvista multiblock\n",
    "multi_mesh[2].cell_data[\"property_values\"]=random_field+20"
   ]
  },
  {
   "cell_type": "code",
   "execution_count": 14,
   "id": "1ca1cc65-e2d0-46cc-bad3-4781ddfb6710",
   "metadata": {},
   "outputs": [
    {
     "data": {
      "text/html": [
       "<table style='width: 100%;'><tr><th>Header</th><th>Data Arrays</th></tr><tr><td>\n",
       "<table style='width: 100%;'>\n",
       "<tr><th>UnstructuredGrid</th><th>Information</th></tr>\n",
       "<tr><td>N Cells</td><td>52736</td></tr>\n",
       "<tr><td>N Points</td><td>65130</td></tr>\n",
       "<tr><td>X Bounds</td><td>0.000e+00, 2.500e+03</td></tr>\n",
       "<tr><td>Y Bounds</td><td>0.000e+00, 1.000e+03</td></tr>\n",
       "<tr><td>Z Bounds</td><td>2.400e+02, 8.000e+02</td></tr>\n",
       "<tr><td>N Arrays</td><td>2</td></tr>\n",
       "</table>\n",
       "\n",
       "</td><td>\n",
       "<table style='width: 100%;'>\n",
       "<tr><th>Name</th><th>Field</th><th>Type</th><th>N Comp</th><th>Min</th><th>Max</th></tr>\n",
       "<tr><td><b>lithology</b></td><td>Cells</td><td>int8</td><td>1</td><td>4.000e+00</td><td>4.000e+00</td></tr>\n",
       "<tr><td>property_values</td><td>Cells</td><td>float64</td><td>1</td><td>8.000e+00</td><td>2.800e+01</td></tr>\n",
       "</table>\n",
       "\n",
       "</td></tr> </table>"
      ],
      "text/plain": [
       "UnstructuredGrid (0x1cc1ed770a0)\n",
       "  N Cells:    52736\n",
       "  N Points:   65130\n",
       "  X Bounds:   0.000e+00, 2.500e+03\n",
       "  Y Bounds:   0.000e+00, 1.000e+03\n",
       "  Z Bounds:   2.400e+02, 8.000e+02\n",
       "  N Arrays:   2"
      ]
     },
     "execution_count": 14,
     "metadata": {},
     "output_type": "execute_result"
    }
   ],
   "source": [
    "# Look at result\n",
    "multi_mesh[2]"
   ]
  },
  {
   "cell_type": "code",
   "execution_count": 15,
   "id": "d409a834-ac4b-4369-b35c-a42762dbdc53",
   "metadata": {},
   "outputs": [],
   "source": [
    "# Plot a single unit in 3D\n",
    "plotter = pv.Plotter(notebook=False)\n",
    "\n",
    "plotter.add_mesh(multi_mesh[2], show_edges=True, scalars=\"property_values\")\n",
    "\n",
    "plotter.show_bounds()\n",
    "plotter.show()"
   ]
  },
  {
   "cell_type": "markdown",
   "id": "1693f7a8-b016-4c0c-9335-267ff1906d6b",
   "metadata": {},
   "source": [
    "### 4) Bonus: Example for all units"
   ]
  },
  {
   "cell_type": "code",
   "execution_count": 16,
   "id": "8459f357-b607-40bd-aa85-fff6d7dbd76b",
   "metadata": {
    "ExecuteTime": {
     "end_time": "2024-10-31T12:02:49.173917Z",
     "start_time": "2024-10-31T12:02:39.088584Z"
    }
   },
   "outputs": [],
   "source": [
    "# Random field generation with random variogram models\n",
    "# NOTE: I use random variograms here, so result might be weird\n",
    "fields = []\n",
    "for i in range(4):\n",
    "    centers = multi_mesh[i].cell_centers()\n",
    "    x = centers.points[:,0]\n",
    "    y = centers.points[:,1]\n",
    "    z = centers.points[:,2]\n",
    "    model = gs.Gaussian(dim=3, var=np.random.randint(1,20), len_scale=np.random.random()*1000)\n",
    "    srf = gs.SRF(model, seed=20170519)\n",
    "    fields.append(np.round(srf((x, y, z)), 0))\n",
    "    multi_mesh[i].cell_data[\"values\"]=fields[i]+np.random.randint(1,20)"
   ]
  },
  {
   "cell_type": "code",
   "execution_count": 17,
   "id": "7a0bbab1-3130-4da2-8231-f99703d80dbf",
   "metadata": {},
   "outputs": [
    {
     "data": {
      "text/html": [
       "<table style='width: 100%;'><tr><th>Header</th><th>Data Arrays</th></tr><tr><td>\n",
       "<table style='width: 100%;'>\n",
       "<tr><th>UnstructuredGrid</th><th>Information</th></tr>\n",
       "<tr><td>N Cells</td><td>52736</td></tr>\n",
       "<tr><td>N Points</td><td>65130</td></tr>\n",
       "<tr><td>X Bounds</td><td>0.000e+00, 2.500e+03</td></tr>\n",
       "<tr><td>Y Bounds</td><td>0.000e+00, 1.000e+03</td></tr>\n",
       "<tr><td>Z Bounds</td><td>2.400e+02, 8.000e+02</td></tr>\n",
       "<tr><td>N Arrays</td><td>3</td></tr>\n",
       "</table>\n",
       "\n",
       "</td><td>\n",
       "<table style='width: 100%;'>\n",
       "<tr><th>Name</th><th>Field</th><th>Type</th><th>N Comp</th><th>Min</th><th>Max</th></tr>\n",
       "<tr><td>lithology</td><td>Cells</td><td>int8</td><td>1</td><td>4.000e+00</td><td>4.000e+00</td></tr>\n",
       "<tr><td><b>property_values</b></td><td>Cells</td><td>float64</td><td>1</td><td>8.000e+00</td><td>2.800e+01</td></tr>\n",
       "<tr><td>values</td><td>Cells</td><td>float64</td><td>1</td><td>-5.000e+00</td><td>1.000e+01</td></tr>\n",
       "</table>\n",
       "\n",
       "</td></tr> </table>"
      ],
      "text/plain": [
       "UnstructuredGrid (0x1cc1ed770a0)\n",
       "  N Cells:    52736\n",
       "  N Points:   65130\n",
       "  X Bounds:   0.000e+00, 2.500e+03\n",
       "  Y Bounds:   0.000e+00, 1.000e+03\n",
       "  Z Bounds:   2.400e+02, 8.000e+02\n",
       "  N Arrays:   3"
      ]
     },
     "execution_count": 17,
     "metadata": {},
     "output_type": "execute_result"
    }
   ],
   "source": [
    "multi_mesh[2]"
   ]
  },
  {
   "cell_type": "code",
   "execution_count": 18,
   "id": "37fa33bf-a8e4-4d49-8ef1-ced8967e2b58",
   "metadata": {
    "ExecuteTime": {
     "end_time": "2024-10-31T12:04:15.208461Z",
     "start_time": "2024-10-31T12:04:11.160250Z"
    }
   },
   "outputs": [],
   "source": [
    "# Plot all units\n",
    "plotter = pv.Plotter(notebook=False)\n",
    "\n",
    "for i in range(4):\n",
    "    plotter.add_mesh(multi_mesh[i], show_edges=True, scalars=\"values\")\n",
    "\n",
    "plotter.show_bounds()\n",
    "plotter.show()"
   ]
  },
  {
   "cell_type": "code",
   "execution_count": null,
   "id": "890c3c43-8adf-4302-a72e-192abe2f07ee",
   "metadata": {},
   "outputs": [],
   "source": []
  }
 ],
 "metadata": {
  "kernelspec": {
   "display_name": "Python 3 (ipykernel)",
   "language": "python",
   "name": "python3"
  },
  "language_info": {
   "codemirror_mode": {
    "name": "ipython",
    "version": 3
   },
   "file_extension": ".py",
   "mimetype": "text/x-python",
   "name": "python",
   "nbconvert_exporter": "python",
   "pygments_lexer": "ipython3",
   "version": "3.12.4"
  }
 },
 "nbformat": 4,
 "nbformat_minor": 5
}
